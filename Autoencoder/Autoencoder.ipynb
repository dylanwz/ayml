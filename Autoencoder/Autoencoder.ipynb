{
 "cells": [
  {
   "cell_type": "markdown",
   "metadata": {},
   "source": [
    "__Introduction__\n",
    "<br><br>\n",
    "From Wikipedia: an autoencoder is a type of (feedforward) artificial neural network used to learn efficient codings of unlabeled data.\n",
    "<br><br>\n",
    "An autoencoder learns two functions: an encoding function that transforms the input data, and a decoding function that recreates the input data from the encoded representation.\n",
    "<br><br>\n",
    "The autoencoder can be expressed as\n",
    "\n",
    "> `L(x,g(f(x)))`,\n",
    "\n",
    "for some input space `x` and non-linear encoder and decoder functions `f`, `g`. Note the lower-dimensional latent space is often denoted `f(x) = h`."
   ]
  },
  {
   "cell_type": "code",
   "execution_count": 1,
   "metadata": {},
   "outputs": [
    {
     "name": "stderr",
     "output_type": "stream",
     "text": [
      "2023-10-20 22:47:09.406501: I tensorflow/core/platform/cpu_feature_guard.cc:182] This TensorFlow binary is optimized to use available CPU instructions in performance-critical operations.\n",
      "To enable the following instructions: AVX2 FMA, in other operations, rebuild TensorFlow with the appropriate compiler flags.\n"
     ]
    }
   ],
   "source": [
    "# Import ML-related libraries\n",
    "import tensorflow as tf\n",
    "from tensorflow import keras\n",
    "\n",
    "# Import data-related libraries\n",
    "import matplotlib.pyplot as plt"
   ]
  },
  {
   "cell_type": "markdown",
   "metadata": {},
   "source": [
    "__1. Process the Data__\n",
    "<br><br>\n",
    "Retrieve the data (i.e. a bunch of images of handwritten numbers), and ensure all values are between -1 and 1."
   ]
  },
  {
   "cell_type": "code",
   "execution_count": 2,
   "metadata": {},
   "outputs": [
    {
     "data": {
      "text/plain": [
       "<matplotlib.image.AxesImage at 0x155983fd0>"
      ]
     },
     "execution_count": 2,
     "metadata": {},
     "output_type": "execute_result"
    },
    {
     "data": {
      "image/png": "[encoded data removed]",
      "text/plain": [
       "<Figure size 640x480 with 1 Axes>"
      ]
     },
     "metadata": {},
     "output_type": "display_data"
    }
   ],
   "source": [
    "(x_train, y_train), (x_test, y_test) = tf.keras.datasets.mnist.load_data()\n",
    "\n",
    "x_train = x_train/255.0\n",
    "x_test = x_test/255.0\n",
    "\n",
    "plt.imshow(x_train[0], cmap=\"gray\" )"
   ]
  },
  {
   "cell_type": "markdown",
   "metadata": {},
   "source": [
    "__2. Construct the Autoencoder__\n",
    "<br><br>\n",
    "Instantiate a `Model` class from `keras` using the functional API. The idea is to start with an input, and successively build 'dense' layers (i.e. layers with neurons).\n",
    "<br><br>\n",
    "Note the comments."
   ]
  },
  {
   "cell_type": "code",
   "execution_count": 3,
   "metadata": {},
   "outputs": [],
   "source": [
    "# Format the input\n",
    "input_layer = keras.Input(shape=(28,28,1), name=\"raw_input\")\n",
    "encoder_input = keras.layers.Flatten(name=\"encoder_in\")(input_layer)\n",
    "\n",
    "# Compress the input space into a lower-dimensional latent space... this becomes input for the decoder\n",
    "# --> `f(x) = h`\n",
    "encoder_output = keras.layers.Dense(64, activation=\"relu\", name=\"encoder_out\")(encoder_input)\n",
    "\n",
    "# Attempt to reconstruct the original image from the encoded information in the latent space `h`\n",
    "# --> `g(h) = x`\n",
    "decoder_output = keras.layers.Dense(784, activation=\"relu\", name=\"decoder_out\")(encoder_output)\n",
    "\n",
    "# Re-format the output\n",
    "output_layer = keras.layers.Reshape((28,28,1), name=\"raw_output\")(decoder_output)"
   ]
  },
  {
   "cell_type": "code",
   "execution_count": 4,
   "metadata": {},
   "outputs": [
    {
     "name": "stdout",
     "output_type": "stream",
     "text": [
      "Model: \"autoencoder\"\n",
      "_________________________________________________________________\n",
      " Layer (type)                Output Shape              Param #   \n"
     ]
    },
    {
     "name": "stdout",
     "output_type": "stream",
     "text": [
      "=================================================================\n",
      " raw_input (InputLayer)      [(None, 28, 28, 1)]       0         \n",
      "                                                                 \n",
      " encoder_in (Flatten)        (None, 784)               0         \n",
      "                                                                 \n",
      " encoder_out (Dense)         (None, 64)                50240     \n",
      "                                                                 \n",
      " decoder_out (Dense)         (None, 784)               50960     \n",
      "                                                                 \n",
      " raw_output (Reshape)        (None, 28, 28, 1)         0         \n",
      "                                                                 \n",
      "=================================================================\n",
      "Total params: 101200 (395.31 KB)\n",
      "Trainable params: 101200 (395.31 KB)\n",
      "Non-trainable params: 0 (0.00 Byte)\n",
      "_________________________________________________________________\n"
     ]
    }
   ],
   "source": [
    "# Save the encoder; the latent lower-dimensional space `h` is valuable\n",
    "encoder = keras.Model(input_layer, encoder_output)\n",
    "\n",
    "autoencoder = keras.Model(input_layer, output_layer, name=\"autoencoder\")\n",
    "autoencoder.summary() "
   ]
  },
  {
   "cell_type": "markdown",
   "metadata": {},
   "source": [
    "__3. Train the Model__\n",
    "<br><br>\n",
    "Autoencoders fit within an unsupervised paradigm, i.e. they do not require labelled data. But it is a feedforward network, implementing some sort of backpropagation.\n",
    "<br><br>\n",
    "To resolve this, we train the autoencoder based on its reconstruction error; how far is the output from the input? Indeed, this explains why the input and output of the model are of the exact same architecture."
   ]
  },
  {
   "cell_type": "code",
   "execution_count": 5,
   "metadata": {},
   "outputs": [
    {
     "name": "stdout",
     "output_type": "stream",
     "text": [
      "Epoch 1/3\n",
      "1688/1688 [==============================] - 6s 3ms/step - loss: 0.0179 - val_loss: 0.0118\n",
      "Epoch 2/3\n",
      "1688/1688 [==============================] - 5s 3ms/step - loss: 0.0113 - val_loss: 0.0109\n",
      "Epoch 3/3\n",
      "1688/1688 [==============================] - 4s 2ms/step - loss: 0.0107 - val_loss: 0.0107\n"
     ]
    },
    {
     "data": {
      "text/plain": [
       "<keras.src.callbacks.History at 0x155855950>"
      ]
     },
     "execution_count": 5,
     "metadata": {},
     "output_type": "execute_result"
    }
   ],
   "source": [
    "opt = keras.optimizers.Adam(learning_rate=0.001)\n",
    "autoencoder.compile(opt, loss=\"mse\")\n",
    "autoencoder.fit(x_train, x_train, epochs=3, batch_size=32, validation_split=0.1) "
   ]
  },
  {
   "cell_type": "markdown",
   "metadata": {},
   "source": [
    "__4. Observe the Results__\n",
    "<br><br>\n",
    "Note. The `predict` method takes in a list of predictions."
   ]
  },
  {
   "cell_type": "code",
   "execution_count": 6,
   "metadata": {},
   "outputs": [
    {
     "data": {
      "text/plain": [
       "<matplotlib.image.AxesImage at 0x156391010>"
      ]
     },
     "execution_count": 6,
     "metadata": {},
     "output_type": "execute_result"
    },
    {
     "data": {
      "image/png": "[encoded data removed]",
      "text/plain": [
       "<Figure size 640x480 with 1 Axes>"
      ]
     },
     "metadata": {},
     "output_type": "display_data"
    }
   ],
   "source": [
    "choose_sample = 888\n",
    "plt.imshow(x_test[choose_sample], cmap=\"gray\" )"
   ]
  },
  {
   "cell_type": "code",
   "execution_count": 7,
   "metadata": {},
   "outputs": [
    {
     "name": "stdout",
     "output_type": "stream",
     "text": [
      "1/1 [==============================] - 0s 78ms/step\n"
     ]
    },
    {
     "data": {
      "text/plain": [
       "<matplotlib.image.AxesImage at 0x1564fa950>"
      ]
     },
     "execution_count": 7,
     "metadata": {},
     "output_type": "execute_result"
    },
    {
     "data": {
      "image/png": "[encoded data removed]",
      "text/plain": [
       "<Figure size 640x480 with 1 Axes>"
      ]
     },
     "metadata": {},
     "output_type": "display_data"
    }
   ],
   "source": [
    "sample = autoencoder.predict([x_test[choose_sample].reshape(-1,28,28,1)])[0]\n",
    "plt.imshow(sample, cmap=\"gray\")"
   ]
  },
  {
   "cell_type": "code",
   "execution_count": 8,
   "metadata": {},
   "outputs": [
    {
     "name": "stdout",
     "output_type": "stream",
     "text": [
      "1/1 [==============================] - 0s 53ms/step\n"
     ]
    },
    {
     "data": {
      "text/plain": [
       "<matplotlib.image.AxesImage at 0x15655b250>"
      ]
     },
     "execution_count": 8,
     "metadata": {},
     "output_type": "execute_result"
    },
    {
     "data": {
      "image/png": "[encoded data removed]",
      "text/plain": [
       "<Figure size 640x480 with 1 Axes>"
      ]
     },
     "metadata": {},
     "output_type": "display_data"
    }
   ],
   "source": [
    "sample_latent = encoder.predict([x_test[choose_sample].reshape(-1,28,28)])[0] \n",
    "plt.imshow(sample_latent.reshape((8,8)), cmap=\"gray\")"
   ]
  }
 ],
 "metadata": {
  "kernelspec": {
   "display_name": "Python 3",
   "language": "python",
   "name": "python3"
  },
  "language_info": {
   "codemirror_mode": {
    "name": "ipython",
    "version": 3
   },
   "file_extension": ".py",
   "mimetype": "text/x-python",
   "name": "python",
   "nbconvert_exporter": "python",
   "pygments_lexer": "ipython3",
   "version": "3.11.5"
  }
 },
 "nbformat": 4,
 "nbformat_minor": 2
}
